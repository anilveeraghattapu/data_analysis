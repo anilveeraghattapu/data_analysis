{
 "cells": [
  {
   "cell_type": "markdown",
   "id": "4e6e08db-5adc-4143-aa52-cdc8b46af08d",
   "metadata": {},
   "source": [
    "#### Case Study: Exploratory Data Analysis (EDA) of Online Retail Dataset"
   ]
  },
  {
   "cell_type": "markdown",
   "id": "b89daf62-18c2-4695-97a0-b364a80cfce2",
   "metadata": {},
   "source": [
    "##### In this project, we will conduct an exploratory data analysis (EDA) on a transactional dataset from an online retail store. The dataset contains detailed information about customer purchases, including product details, quantities, prices, and timestamps, spanning transactions from 2010 to 2011. The goal of this analysis is to explore and extract insights into the store’s sales trends, customer behaviors, and popular products, which will help optimize the store's operations and improve customer satisfaction."
   ]
  },
  {
   "cell_type": "markdown",
   "id": "53dacaf9-6ae3-407a-b18e-6460f1c41aab",
   "metadata": {},
   "source": [
    "##### By performing EDA, we aim to identify key patterns, detect outliers, and find correlations within the dataset. These insights will drive data-informed decisions and help in formulating strategies that can enhance the online store's overall performance in the competitive retail market. Through visualizations and statistical analysis, we will uncover important trends such as peak sales months, best-selling products, and the store’s most valuable customers."
   ]
  },
  {
   "cell_type": "markdown",
   "id": "94813e06-51f3-4e1f-80fd-285b120f6da5",
   "metadata": {},
   "source": [
    "##### The analysis will involve tasks such as:\n",
    "    - Analyzing sales trends over time (e.g., busiest sales months and days of the week)\n",
    "    - Identifying top-selling products and countries with the highest sales\n",
    "    - Detecting any anomalies or outliers in the dataset\n",
    "    - Generating key recommendations based on the findings to improve business performance.\n"
   ]
  },
  {
   "cell_type": "markdown",
   "id": "fccd4e78-3e02-4bda-9eb2-4e7b1493c30b",
   "metadata": {},
   "source": [
    "##### The insights gathered from this analysis will be critical in helping the store make data-driven decisions and enhance its overall customer experience."
   ]
  },
  {
   "cell_type": "code",
   "execution_count": 6,
   "id": "1cac05ea-60e5-4c6c-85a0-6ecaf56fd5cf",
   "metadata": {},
   "outputs": [
    {
     "name": "stdout",
     "output_type": "stream",
     "text": [
      "done\n"
     ]
    }
   ],
   "source": [
    "#import libraries\n",
    "import pandas as pd\n",
    "import numpy as np\n",
    "import matplotlib.pyplot as plt\n",
    "import seaborn as sns\n",
    "print('done')"
   ]
  },
  {
   "cell_type": "code",
   "execution_count": 7,
   "id": "d7d04c68-83bb-4991-92b2-ce892161e0b4",
   "metadata": {},
   "outputs": [],
   "source": [
    "#read the data\n",
    "path = 'data/Online Retail.xlsx'\n",
    "retail =  pd.read_excel(path, sheet_name=0)"
   ]
  },
  {
   "cell_type": "code",
   "execution_count": 8,
   "id": "adbd14bc-fdfe-4063-9f02-9b9f1934f779",
   "metadata": {},
   "outputs": [
    {
     "data": {
      "text/html": [
       "<div>\n",
       "<style scoped>\n",
       "    .dataframe tbody tr th:only-of-type {\n",
       "        vertical-align: middle;\n",
       "    }\n",
       "\n",
       "    .dataframe tbody tr th {\n",
       "        vertical-align: top;\n",
       "    }\n",
       "\n",
       "    .dataframe thead th {\n",
       "        text-align: right;\n",
       "    }\n",
       "</style>\n",
       "<table border=\"1\" class=\"dataframe\">\n",
       "  <thead>\n",
       "    <tr style=\"text-align: right;\">\n",
       "      <th></th>\n",
       "      <th>InvoiceNo</th>\n",
       "      <th>StockCode</th>\n",
       "      <th>Description</th>\n",
       "      <th>Quantity</th>\n",
       "      <th>InvoiceDate</th>\n",
       "      <th>UnitPrice</th>\n",
       "      <th>CustomerID</th>\n",
       "      <th>Country</th>\n",
       "    </tr>\n",
       "  </thead>\n",
       "  <tbody>\n",
       "    <tr>\n",
       "      <th>0</th>\n",
       "      <td>536365</td>\n",
       "      <td>85123A</td>\n",
       "      <td>WHITE HANGING HEART T-LIGHT HOLDER</td>\n",
       "      <td>6</td>\n",
       "      <td>2010-12-01 08:26:00</td>\n",
       "      <td>2.55</td>\n",
       "      <td>17850.0</td>\n",
       "      <td>United Kingdom</td>\n",
       "    </tr>\n",
       "    <tr>\n",
       "      <th>1</th>\n",
       "      <td>536365</td>\n",
       "      <td>71053</td>\n",
       "      <td>WHITE METAL LANTERN</td>\n",
       "      <td>6</td>\n",
       "      <td>2010-12-01 08:26:00</td>\n",
       "      <td>3.39</td>\n",
       "      <td>17850.0</td>\n",
       "      <td>United Kingdom</td>\n",
       "    </tr>\n",
       "    <tr>\n",
       "      <th>2</th>\n",
       "      <td>536365</td>\n",
       "      <td>84406B</td>\n",
       "      <td>CREAM CUPID HEARTS COAT HANGER</td>\n",
       "      <td>8</td>\n",
       "      <td>2010-12-01 08:26:00</td>\n",
       "      <td>2.75</td>\n",
       "      <td>17850.0</td>\n",
       "      <td>United Kingdom</td>\n",
       "    </tr>\n",
       "    <tr>\n",
       "      <th>3</th>\n",
       "      <td>536365</td>\n",
       "      <td>84029G</td>\n",
       "      <td>KNITTED UNION FLAG HOT WATER BOTTLE</td>\n",
       "      <td>6</td>\n",
       "      <td>2010-12-01 08:26:00</td>\n",
       "      <td>3.39</td>\n",
       "      <td>17850.0</td>\n",
       "      <td>United Kingdom</td>\n",
       "    </tr>\n",
       "    <tr>\n",
       "      <th>4</th>\n",
       "      <td>536365</td>\n",
       "      <td>84029E</td>\n",
       "      <td>RED WOOLLY HOTTIE WHITE HEART.</td>\n",
       "      <td>6</td>\n",
       "      <td>2010-12-01 08:26:00</td>\n",
       "      <td>3.39</td>\n",
       "      <td>17850.0</td>\n",
       "      <td>United Kingdom</td>\n",
       "    </tr>\n",
       "  </tbody>\n",
       "</table>\n",
       "</div>"
      ],
      "text/plain": [
       "  InvoiceNo StockCode                          Description  Quantity  \\\n",
       "0    536365    85123A   WHITE HANGING HEART T-LIGHT HOLDER         6   \n",
       "1    536365     71053                  WHITE METAL LANTERN         6   \n",
       "2    536365    84406B       CREAM CUPID HEARTS COAT HANGER         8   \n",
       "3    536365    84029G  KNITTED UNION FLAG HOT WATER BOTTLE         6   \n",
       "4    536365    84029E       RED WOOLLY HOTTIE WHITE HEART.         6   \n",
       "\n",
       "          InvoiceDate  UnitPrice  CustomerID         Country  \n",
       "0 2010-12-01 08:26:00       2.55     17850.0  United Kingdom  \n",
       "1 2010-12-01 08:26:00       3.39     17850.0  United Kingdom  \n",
       "2 2010-12-01 08:26:00       2.75     17850.0  United Kingdom  \n",
       "3 2010-12-01 08:26:00       3.39     17850.0  United Kingdom  \n",
       "4 2010-12-01 08:26:00       3.39     17850.0  United Kingdom  "
      ]
     },
     "execution_count": 8,
     "metadata": {},
     "output_type": "execute_result"
    }
   ],
   "source": [
    "retail.head(5)"
   ]
  },
  {
   "cell_type": "code",
   "execution_count": 9,
   "id": "526744ae-7ab4-42e5-a2ff-ffa1a9667d3f",
   "metadata": {},
   "outputs": [
    {
     "data": {
      "text/plain": [
       "(541909, 8)"
      ]
     },
     "execution_count": 9,
     "metadata": {},
     "output_type": "execute_result"
    }
   ],
   "source": [
    "retail.shape"
   ]
  },
  {
   "cell_type": "code",
   "execution_count": 10,
   "id": "b168659f-2541-46cd-ac5c-dfa7c62d7cd4",
   "metadata": {},
   "outputs": [
    {
     "data": {
      "text/html": [
       "<div>\n",
       "<style scoped>\n",
       "    .dataframe tbody tr th:only-of-type {\n",
       "        vertical-align: middle;\n",
       "    }\n",
       "\n",
       "    .dataframe tbody tr th {\n",
       "        vertical-align: top;\n",
       "    }\n",
       "\n",
       "    .dataframe thead th {\n",
       "        text-align: right;\n",
       "    }\n",
       "</style>\n",
       "<table border=\"1\" class=\"dataframe\">\n",
       "  <thead>\n",
       "    <tr style=\"text-align: right;\">\n",
       "      <th></th>\n",
       "      <th>InvoiceNo</th>\n",
       "      <th>StockCode</th>\n",
       "      <th>Description</th>\n",
       "      <th>Quantity</th>\n",
       "      <th>InvoiceDate</th>\n",
       "      <th>UnitPrice</th>\n",
       "      <th>CustomerID</th>\n",
       "      <th>Country</th>\n",
       "    </tr>\n",
       "  </thead>\n",
       "  <tbody>\n",
       "    <tr>\n",
       "      <th>541904</th>\n",
       "      <td>581587</td>\n",
       "      <td>22613</td>\n",
       "      <td>PACK OF 20 SPACEBOY NAPKINS</td>\n",
       "      <td>12</td>\n",
       "      <td>2011-12-09 12:50:00</td>\n",
       "      <td>0.85</td>\n",
       "      <td>12680.0</td>\n",
       "      <td>France</td>\n",
       "    </tr>\n",
       "    <tr>\n",
       "      <th>541905</th>\n",
       "      <td>581587</td>\n",
       "      <td>22899</td>\n",
       "      <td>CHILDREN'S APRON DOLLY GIRL</td>\n",
       "      <td>6</td>\n",
       "      <td>2011-12-09 12:50:00</td>\n",
       "      <td>2.10</td>\n",
       "      <td>12680.0</td>\n",
       "      <td>France</td>\n",
       "    </tr>\n",
       "    <tr>\n",
       "      <th>541906</th>\n",
       "      <td>581587</td>\n",
       "      <td>23254</td>\n",
       "      <td>CHILDRENS CUTLERY DOLLY GIRL</td>\n",
       "      <td>4</td>\n",
       "      <td>2011-12-09 12:50:00</td>\n",
       "      <td>4.15</td>\n",
       "      <td>12680.0</td>\n",
       "      <td>France</td>\n",
       "    </tr>\n",
       "    <tr>\n",
       "      <th>541907</th>\n",
       "      <td>581587</td>\n",
       "      <td>23255</td>\n",
       "      <td>CHILDRENS CUTLERY CIRCUS PARADE</td>\n",
       "      <td>4</td>\n",
       "      <td>2011-12-09 12:50:00</td>\n",
       "      <td>4.15</td>\n",
       "      <td>12680.0</td>\n",
       "      <td>France</td>\n",
       "    </tr>\n",
       "    <tr>\n",
       "      <th>541908</th>\n",
       "      <td>581587</td>\n",
       "      <td>22138</td>\n",
       "      <td>BAKING SET 9 PIECE RETROSPOT</td>\n",
       "      <td>3</td>\n",
       "      <td>2011-12-09 12:50:00</td>\n",
       "      <td>4.95</td>\n",
       "      <td>12680.0</td>\n",
       "      <td>France</td>\n",
       "    </tr>\n",
       "  </tbody>\n",
       "</table>\n",
       "</div>"
      ],
      "text/plain": [
       "       InvoiceNo StockCode                      Description  Quantity  \\\n",
       "541904    581587     22613      PACK OF 20 SPACEBOY NAPKINS        12   \n",
       "541905    581587     22899     CHILDREN'S APRON DOLLY GIRL          6   \n",
       "541906    581587     23254    CHILDRENS CUTLERY DOLLY GIRL          4   \n",
       "541907    581587     23255  CHILDRENS CUTLERY CIRCUS PARADE         4   \n",
       "541908    581587     22138    BAKING SET 9 PIECE RETROSPOT          3   \n",
       "\n",
       "               InvoiceDate  UnitPrice  CustomerID Country  \n",
       "541904 2011-12-09 12:50:00       0.85     12680.0  France  \n",
       "541905 2011-12-09 12:50:00       2.10     12680.0  France  \n",
       "541906 2011-12-09 12:50:00       4.15     12680.0  France  \n",
       "541907 2011-12-09 12:50:00       4.15     12680.0  France  \n",
       "541908 2011-12-09 12:50:00       4.95     12680.0  France  "
      ]
     },
     "execution_count": 10,
     "metadata": {},
     "output_type": "execute_result"
    }
   ],
   "source": [
    "retail.tail(5)"
   ]
  },
  {
   "cell_type": "code",
   "execution_count": 11,
   "id": "16044cad-7063-4af8-aeb8-5649325e34e5",
   "metadata": {},
   "outputs": [
    {
     "data": {
      "text/plain": [
       "InvoiceNo              object\n",
       "StockCode              object\n",
       "Description            object\n",
       "Quantity                int64\n",
       "InvoiceDate    datetime64[ns]\n",
       "UnitPrice             float64\n",
       "CustomerID            float64\n",
       "Country                object\n",
       "dtype: object"
      ]
     },
     "execution_count": 11,
     "metadata": {},
     "output_type": "execute_result"
    }
   ],
   "source": [
    "retail.dtypes"
   ]
  },
  {
   "cell_type": "code",
   "execution_count": 12,
   "id": "e1c8b6cc-f089-42b2-8f66-f6d0d69cabba",
   "metadata": {},
   "outputs": [
    {
     "name": "stdout",
     "output_type": "stream",
     "text": [
      "<class 'pandas.core.frame.DataFrame'>\n",
      "RangeIndex: 541909 entries, 0 to 541908\n",
      "Data columns (total 8 columns):\n",
      " #   Column       Non-Null Count   Dtype         \n",
      "---  ------       --------------   -----         \n",
      " 0   InvoiceNo    541909 non-null  object        \n",
      " 1   StockCode    541909 non-null  object        \n",
      " 2   Description  540455 non-null  object        \n",
      " 3   Quantity     541909 non-null  int64         \n",
      " 4   InvoiceDate  541909 non-null  datetime64[ns]\n",
      " 5   UnitPrice    541909 non-null  float64       \n",
      " 6   CustomerID   406829 non-null  float64       \n",
      " 7   Country      541909 non-null  object        \n",
      "dtypes: datetime64[ns](1), float64(2), int64(1), object(4)\n",
      "memory usage: 33.1+ MB\n"
     ]
    }
   ],
   "source": [
    "retail.info()"
   ]
  },
  {
   "cell_type": "code",
   "execution_count": 13,
   "id": "0c167936-20e0-4aa6-9a72-be966cfbec58",
   "metadata": {},
   "outputs": [
    {
     "data": {
      "text/plain": [
       "InvoiceNo           0\n",
       "StockCode           0\n",
       "Description      1454\n",
       "Quantity            0\n",
       "InvoiceDate         0\n",
       "UnitPrice           0\n",
       "CustomerID     135080\n",
       "Country             0\n",
       "dtype: int64"
      ]
     },
     "execution_count": 13,
     "metadata": {},
     "output_type": "execute_result"
    }
   ],
   "source": [
    "retail.isnull().sum()"
   ]
  },
  {
   "cell_type": "code",
   "execution_count": 14,
   "id": "63c7e83c-2a3e-4d11-ad5a-a9912eb9aa28",
   "metadata": {},
   "outputs": [
    {
     "data": {
      "text/html": [
       "<div>\n",
       "<style scoped>\n",
       "    .dataframe tbody tr th:only-of-type {\n",
       "        vertical-align: middle;\n",
       "    }\n",
       "\n",
       "    .dataframe tbody tr th {\n",
       "        vertical-align: top;\n",
       "    }\n",
       "\n",
       "    .dataframe thead th {\n",
       "        text-align: right;\n",
       "    }\n",
       "</style>\n",
       "<table border=\"1\" class=\"dataframe\">\n",
       "  <thead>\n",
       "    <tr style=\"text-align: right;\">\n",
       "      <th></th>\n",
       "      <th>Quantity</th>\n",
       "      <th>InvoiceDate</th>\n",
       "      <th>UnitPrice</th>\n",
       "      <th>CustomerID</th>\n",
       "    </tr>\n",
       "  </thead>\n",
       "  <tbody>\n",
       "    <tr>\n",
       "      <th>count</th>\n",
       "      <td>541909.000000</td>\n",
       "      <td>541909</td>\n",
       "      <td>541909.000000</td>\n",
       "      <td>406829.000000</td>\n",
       "    </tr>\n",
       "    <tr>\n",
       "      <th>mean</th>\n",
       "      <td>9.552250</td>\n",
       "      <td>2011-07-04 13:34:57.156386048</td>\n",
       "      <td>4.611114</td>\n",
       "      <td>15287.690570</td>\n",
       "    </tr>\n",
       "    <tr>\n",
       "      <th>min</th>\n",
       "      <td>-80995.000000</td>\n",
       "      <td>2010-12-01 08:26:00</td>\n",
       "      <td>-11062.060000</td>\n",
       "      <td>12346.000000</td>\n",
       "    </tr>\n",
       "    <tr>\n",
       "      <th>25%</th>\n",
       "      <td>1.000000</td>\n",
       "      <td>2011-03-28 11:34:00</td>\n",
       "      <td>1.250000</td>\n",
       "      <td>13953.000000</td>\n",
       "    </tr>\n",
       "    <tr>\n",
       "      <th>50%</th>\n",
       "      <td>3.000000</td>\n",
       "      <td>2011-07-19 17:17:00</td>\n",
       "      <td>2.080000</td>\n",
       "      <td>15152.000000</td>\n",
       "    </tr>\n",
       "    <tr>\n",
       "      <th>75%</th>\n",
       "      <td>10.000000</td>\n",
       "      <td>2011-10-19 11:27:00</td>\n",
       "      <td>4.130000</td>\n",
       "      <td>16791.000000</td>\n",
       "    </tr>\n",
       "    <tr>\n",
       "      <th>max</th>\n",
       "      <td>80995.000000</td>\n",
       "      <td>2011-12-09 12:50:00</td>\n",
       "      <td>38970.000000</td>\n",
       "      <td>18287.000000</td>\n",
       "    </tr>\n",
       "    <tr>\n",
       "      <th>std</th>\n",
       "      <td>218.081158</td>\n",
       "      <td>NaN</td>\n",
       "      <td>96.759853</td>\n",
       "      <td>1713.600303</td>\n",
       "    </tr>\n",
       "  </tbody>\n",
       "</table>\n",
       "</div>"
      ],
      "text/plain": [
       "            Quantity                    InvoiceDate      UnitPrice  \\\n",
       "count  541909.000000                         541909  541909.000000   \n",
       "mean        9.552250  2011-07-04 13:34:57.156386048       4.611114   \n",
       "min    -80995.000000            2010-12-01 08:26:00  -11062.060000   \n",
       "25%         1.000000            2011-03-28 11:34:00       1.250000   \n",
       "50%         3.000000            2011-07-19 17:17:00       2.080000   \n",
       "75%        10.000000            2011-10-19 11:27:00       4.130000   \n",
       "max     80995.000000            2011-12-09 12:50:00   38970.000000   \n",
       "std       218.081158                            NaN      96.759853   \n",
       "\n",
       "          CustomerID  \n",
       "count  406829.000000  \n",
       "mean    15287.690570  \n",
       "min     12346.000000  \n",
       "25%     13953.000000  \n",
       "50%     15152.000000  \n",
       "75%     16791.000000  \n",
       "max     18287.000000  \n",
       "std      1713.600303  "
      ]
     },
     "execution_count": 14,
     "metadata": {},
     "output_type": "execute_result"
    }
   ],
   "source": [
    "retail.describe()"
   ]
  },
  {
   "cell_type": "code",
   "execution_count": 15,
   "id": "3b8319ad-d4f4-4af6-b97b-2c4eaee84a53",
   "metadata": {},
   "outputs": [
    {
     "data": {
      "text/plain": [
       "count    406829.000000\n",
       "mean      15287.690570\n",
       "std        1713.600303\n",
       "min       12346.000000\n",
       "25%       13953.000000\n",
       "50%       15152.000000\n",
       "75%       16791.000000\n",
       "max       18287.000000\n",
       "Name: CustomerID, dtype: float64"
      ]
     },
     "execution_count": 15,
     "metadata": {},
     "output_type": "execute_result"
    }
   ],
   "source": [
    "#CustomerID     135080\n",
    "#Description      1454\n",
    "\n",
    "retail['CustomerID'].describe()"
   ]
  },
  {
   "cell_type": "code",
   "execution_count": 16,
   "id": "2e624153-e294-452c-b70f-d529b8bfa13c",
   "metadata": {},
   "outputs": [
    {
     "data": {
      "text/plain": [
       "Index(['InvoiceNo', 'StockCode', 'Description', 'Quantity', 'InvoiceDate',\n",
       "       'UnitPrice', 'CustomerID', 'Country'],\n",
       "      dtype='object')"
      ]
     },
     "execution_count": 16,
     "metadata": {},
     "output_type": "execute_result"
    }
   ],
   "source": [
    "retail.columns"
   ]
  },
  {
   "cell_type": "code",
   "execution_count": 17,
   "id": "86178999-d616-4bd4-a3af-e532b43e7bfa",
   "metadata": {},
   "outputs": [],
   "source": [
    "#create new columns\n",
    "#total spend\n",
    "#month\n",
    "#weekday\n",
    "retail['TotalSpend'] = retail['Quantity'] * retail['UnitPrice']\n",
    "retail['Month'] =  retail['InvoiceDate'].dt.month_name()\n",
    "retail['Month_id'] = retail['InvoiceDate'].dt.month\n",
    "retail['WeekDay'] = retail['InvoiceDate'].dt.day_name()\n",
    "retail['Year'] = retail['InvoiceDate'].dt.year"
   ]
  },
  {
   "cell_type": "code",
   "execution_count": 18,
   "id": "d6fe91f3-d9aa-40bf-8d28-e1e089714e85",
   "metadata": {},
   "outputs": [
    {
     "data": {
      "text/html": [
       "<div>\n",
       "<style scoped>\n",
       "    .dataframe tbody tr th:only-of-type {\n",
       "        vertical-align: middle;\n",
       "    }\n",
       "\n",
       "    .dataframe tbody tr th {\n",
       "        vertical-align: top;\n",
       "    }\n",
       "\n",
       "    .dataframe thead th {\n",
       "        text-align: right;\n",
       "    }\n",
       "</style>\n",
       "<table border=\"1\" class=\"dataframe\">\n",
       "  <thead>\n",
       "    <tr style=\"text-align: right;\">\n",
       "      <th></th>\n",
       "      <th>InvoiceNo</th>\n",
       "      <th>StockCode</th>\n",
       "      <th>Description</th>\n",
       "      <th>Quantity</th>\n",
       "      <th>InvoiceDate</th>\n",
       "      <th>UnitPrice</th>\n",
       "      <th>CustomerID</th>\n",
       "      <th>Country</th>\n",
       "      <th>TotalSpend</th>\n",
       "      <th>Month</th>\n",
       "      <th>Month_id</th>\n",
       "      <th>WeekDay</th>\n",
       "      <th>Year</th>\n",
       "    </tr>\n",
       "  </thead>\n",
       "  <tbody>\n",
       "    <tr>\n",
       "      <th>0</th>\n",
       "      <td>536365</td>\n",
       "      <td>85123A</td>\n",
       "      <td>WHITE HANGING HEART T-LIGHT HOLDER</td>\n",
       "      <td>6</td>\n",
       "      <td>2010-12-01 08:26:00</td>\n",
       "      <td>2.55</td>\n",
       "      <td>17850.0</td>\n",
       "      <td>United Kingdom</td>\n",
       "      <td>15.30</td>\n",
       "      <td>December</td>\n",
       "      <td>12</td>\n",
       "      <td>Wednesday</td>\n",
       "      <td>2010</td>\n",
       "    </tr>\n",
       "    <tr>\n",
       "      <th>1</th>\n",
       "      <td>536365</td>\n",
       "      <td>71053</td>\n",
       "      <td>WHITE METAL LANTERN</td>\n",
       "      <td>6</td>\n",
       "      <td>2010-12-01 08:26:00</td>\n",
       "      <td>3.39</td>\n",
       "      <td>17850.0</td>\n",
       "      <td>United Kingdom</td>\n",
       "      <td>20.34</td>\n",
       "      <td>December</td>\n",
       "      <td>12</td>\n",
       "      <td>Wednesday</td>\n",
       "      <td>2010</td>\n",
       "    </tr>\n",
       "    <tr>\n",
       "      <th>2</th>\n",
       "      <td>536365</td>\n",
       "      <td>84406B</td>\n",
       "      <td>CREAM CUPID HEARTS COAT HANGER</td>\n",
       "      <td>8</td>\n",
       "      <td>2010-12-01 08:26:00</td>\n",
       "      <td>2.75</td>\n",
       "      <td>17850.0</td>\n",
       "      <td>United Kingdom</td>\n",
       "      <td>22.00</td>\n",
       "      <td>December</td>\n",
       "      <td>12</td>\n",
       "      <td>Wednesday</td>\n",
       "      <td>2010</td>\n",
       "    </tr>\n",
       "    <tr>\n",
       "      <th>3</th>\n",
       "      <td>536365</td>\n",
       "      <td>84029G</td>\n",
       "      <td>KNITTED UNION FLAG HOT WATER BOTTLE</td>\n",
       "      <td>6</td>\n",
       "      <td>2010-12-01 08:26:00</td>\n",
       "      <td>3.39</td>\n",
       "      <td>17850.0</td>\n",
       "      <td>United Kingdom</td>\n",
       "      <td>20.34</td>\n",
       "      <td>December</td>\n",
       "      <td>12</td>\n",
       "      <td>Wednesday</td>\n",
       "      <td>2010</td>\n",
       "    </tr>\n",
       "    <tr>\n",
       "      <th>4</th>\n",
       "      <td>536365</td>\n",
       "      <td>84029E</td>\n",
       "      <td>RED WOOLLY HOTTIE WHITE HEART.</td>\n",
       "      <td>6</td>\n",
       "      <td>2010-12-01 08:26:00</td>\n",
       "      <td>3.39</td>\n",
       "      <td>17850.0</td>\n",
       "      <td>United Kingdom</td>\n",
       "      <td>20.34</td>\n",
       "      <td>December</td>\n",
       "      <td>12</td>\n",
       "      <td>Wednesday</td>\n",
       "      <td>2010</td>\n",
       "    </tr>\n",
       "  </tbody>\n",
       "</table>\n",
       "</div>"
      ],
      "text/plain": [
       "  InvoiceNo StockCode                          Description  Quantity  \\\n",
       "0    536365    85123A   WHITE HANGING HEART T-LIGHT HOLDER         6   \n",
       "1    536365     71053                  WHITE METAL LANTERN         6   \n",
       "2    536365    84406B       CREAM CUPID HEARTS COAT HANGER         8   \n",
       "3    536365    84029G  KNITTED UNION FLAG HOT WATER BOTTLE         6   \n",
       "4    536365    84029E       RED WOOLLY HOTTIE WHITE HEART.         6   \n",
       "\n",
       "          InvoiceDate  UnitPrice  CustomerID         Country  TotalSpend  \\\n",
       "0 2010-12-01 08:26:00       2.55     17850.0  United Kingdom       15.30   \n",
       "1 2010-12-01 08:26:00       3.39     17850.0  United Kingdom       20.34   \n",
       "2 2010-12-01 08:26:00       2.75     17850.0  United Kingdom       22.00   \n",
       "3 2010-12-01 08:26:00       3.39     17850.0  United Kingdom       20.34   \n",
       "4 2010-12-01 08:26:00       3.39     17850.0  United Kingdom       20.34   \n",
       "\n",
       "      Month  Month_id    WeekDay  Year  \n",
       "0  December        12  Wednesday  2010  \n",
       "1  December        12  Wednesday  2010  \n",
       "2  December        12  Wednesday  2010  \n",
       "3  December        12  Wednesday  2010  \n",
       "4  December        12  Wednesday  2010  "
      ]
     },
     "execution_count": 18,
     "metadata": {},
     "output_type": "execute_result"
    }
   ],
   "source": [
    "retail.head(5)"
   ]
  },
  {
   "cell_type": "code",
   "execution_count": 19,
   "id": "459f89a9-195d-41f9-ad38-c33ad5b52c79",
   "metadata": {},
   "outputs": [],
   "source": [
    "#we don't need Description column\n",
    "retail = retail.drop(columns=['Description'])"
   ]
  },
  {
   "cell_type": "code",
   "execution_count": 20,
   "id": "00410f25-ada6-4477-8e98-bc27bf247a30",
   "metadata": {},
   "outputs": [
    {
     "data": {
      "text/html": [
       "<div>\n",
       "<style scoped>\n",
       "    .dataframe tbody tr th:only-of-type {\n",
       "        vertical-align: middle;\n",
       "    }\n",
       "\n",
       "    .dataframe tbody tr th {\n",
       "        vertical-align: top;\n",
       "    }\n",
       "\n",
       "    .dataframe thead th {\n",
       "        text-align: right;\n",
       "    }\n",
       "</style>\n",
       "<table border=\"1\" class=\"dataframe\">\n",
       "  <thead>\n",
       "    <tr style=\"text-align: right;\">\n",
       "      <th></th>\n",
       "      <th>InvoiceNo</th>\n",
       "      <th>StockCode</th>\n",
       "      <th>Quantity</th>\n",
       "      <th>InvoiceDate</th>\n",
       "      <th>UnitPrice</th>\n",
       "      <th>CustomerID</th>\n",
       "      <th>Country</th>\n",
       "      <th>TotalSpend</th>\n",
       "      <th>Month</th>\n",
       "      <th>Month_id</th>\n",
       "      <th>WeekDay</th>\n",
       "      <th>Year</th>\n",
       "    </tr>\n",
       "  </thead>\n",
       "  <tbody>\n",
       "    <tr>\n",
       "      <th>0</th>\n",
       "      <td>536365</td>\n",
       "      <td>85123A</td>\n",
       "      <td>6</td>\n",
       "      <td>2010-12-01 08:26:00</td>\n",
       "      <td>2.55</td>\n",
       "      <td>17850.0</td>\n",
       "      <td>United Kingdom</td>\n",
       "      <td>15.30</td>\n",
       "      <td>December</td>\n",
       "      <td>12</td>\n",
       "      <td>Wednesday</td>\n",
       "      <td>2010</td>\n",
       "    </tr>\n",
       "    <tr>\n",
       "      <th>1</th>\n",
       "      <td>536365</td>\n",
       "      <td>71053</td>\n",
       "      <td>6</td>\n",
       "      <td>2010-12-01 08:26:00</td>\n",
       "      <td>3.39</td>\n",
       "      <td>17850.0</td>\n",
       "      <td>United Kingdom</td>\n",
       "      <td>20.34</td>\n",
       "      <td>December</td>\n",
       "      <td>12</td>\n",
       "      <td>Wednesday</td>\n",
       "      <td>2010</td>\n",
       "    </tr>\n",
       "    <tr>\n",
       "      <th>2</th>\n",
       "      <td>536365</td>\n",
       "      <td>84406B</td>\n",
       "      <td>8</td>\n",
       "      <td>2010-12-01 08:26:00</td>\n",
       "      <td>2.75</td>\n",
       "      <td>17850.0</td>\n",
       "      <td>United Kingdom</td>\n",
       "      <td>22.00</td>\n",
       "      <td>December</td>\n",
       "      <td>12</td>\n",
       "      <td>Wednesday</td>\n",
       "      <td>2010</td>\n",
       "    </tr>\n",
       "    <tr>\n",
       "      <th>3</th>\n",
       "      <td>536365</td>\n",
       "      <td>84029G</td>\n",
       "      <td>6</td>\n",
       "      <td>2010-12-01 08:26:00</td>\n",
       "      <td>3.39</td>\n",
       "      <td>17850.0</td>\n",
       "      <td>United Kingdom</td>\n",
       "      <td>20.34</td>\n",
       "      <td>December</td>\n",
       "      <td>12</td>\n",
       "      <td>Wednesday</td>\n",
       "      <td>2010</td>\n",
       "    </tr>\n",
       "    <tr>\n",
       "      <th>4</th>\n",
       "      <td>536365</td>\n",
       "      <td>84029E</td>\n",
       "      <td>6</td>\n",
       "      <td>2010-12-01 08:26:00</td>\n",
       "      <td>3.39</td>\n",
       "      <td>17850.0</td>\n",
       "      <td>United Kingdom</td>\n",
       "      <td>20.34</td>\n",
       "      <td>December</td>\n",
       "      <td>12</td>\n",
       "      <td>Wednesday</td>\n",
       "      <td>2010</td>\n",
       "    </tr>\n",
       "  </tbody>\n",
       "</table>\n",
       "</div>"
      ],
      "text/plain": [
       "  InvoiceNo StockCode  Quantity         InvoiceDate  UnitPrice  CustomerID  \\\n",
       "0    536365    85123A         6 2010-12-01 08:26:00       2.55     17850.0   \n",
       "1    536365     71053         6 2010-12-01 08:26:00       3.39     17850.0   \n",
       "2    536365    84406B         8 2010-12-01 08:26:00       2.75     17850.0   \n",
       "3    536365    84029G         6 2010-12-01 08:26:00       3.39     17850.0   \n",
       "4    536365    84029E         6 2010-12-01 08:26:00       3.39     17850.0   \n",
       "\n",
       "          Country  TotalSpend     Month  Month_id    WeekDay  Year  \n",
       "0  United Kingdom       15.30  December        12  Wednesday  2010  \n",
       "1  United Kingdom       20.34  December        12  Wednesday  2010  \n",
       "2  United Kingdom       22.00  December        12  Wednesday  2010  \n",
       "3  United Kingdom       20.34  December        12  Wednesday  2010  \n",
       "4  United Kingdom       20.34  December        12  Wednesday  2010  "
      ]
     },
     "execution_count": 20,
     "metadata": {},
     "output_type": "execute_result"
    }
   ],
   "source": [
    "retail.head(5)"
   ]
  },
  {
   "cell_type": "code",
   "execution_count": 21,
   "id": "d8664499-2045-4178-90e7-c05caea20737",
   "metadata": {},
   "outputs": [
    {
     "data": {
      "text/plain": [
       "count     541909\n",
       "unique      4070\n",
       "top       85123A\n",
       "freq        2313\n",
       "Name: StockCode, dtype: object"
      ]
     },
     "execution_count": 21,
     "metadata": {},
     "output_type": "execute_result"
    }
   ],
   "source": [
    "#stock code\n",
    "retail['StockCode'].describe()"
   ]
  },
  {
   "cell_type": "code",
   "execution_count": 22,
   "id": "91592c12-0382-40e9-a776-8261ebbae86a",
   "metadata": {},
   "outputs": [],
   "source": [
    "#there are 4070 items in our store\n",
    "#lets see what is the bestseller\n"
   ]
  },
  {
   "cell_type": "code",
   "execution_count": 23,
   "id": "7daca5c7-8950-403a-885a-ab2ec57c777d",
   "metadata": {},
   "outputs": [],
   "source": [
    "#best seller by volume"
   ]
  },
  {
   "cell_type": "code",
   "execution_count": 24,
   "id": "1d33bc7c-8299-4393-aedf-094ce45ed09c",
   "metadata": {},
   "outputs": [],
   "source": [
    "best_seller_q = retail.groupby('StockCode')['Quantity'].sum()"
   ]
  },
  {
   "cell_type": "code",
   "execution_count": 25,
   "id": "fb6d335f-e55b-4ae0-8b01-f552708629d5",
   "metadata": {},
   "outputs": [],
   "source": [
    "bs_q = best_seller_q.sort_values(ascending=False).head(10).reset_index()"
   ]
  },
  {
   "cell_type": "code",
   "execution_count": 26,
   "id": "862176b5-08df-40d6-a998-e22f598bb340",
   "metadata": {},
   "outputs": [
    {
     "data": {
      "text/html": [
       "<div>\n",
       "<style scoped>\n",
       "    .dataframe tbody tr th:only-of-type {\n",
       "        vertical-align: middle;\n",
       "    }\n",
       "\n",
       "    .dataframe tbody tr th {\n",
       "        vertical-align: top;\n",
       "    }\n",
       "\n",
       "    .dataframe thead th {\n",
       "        text-align: right;\n",
       "    }\n",
       "</style>\n",
       "<table border=\"1\" class=\"dataframe\">\n",
       "  <thead>\n",
       "    <tr style=\"text-align: right;\">\n",
       "      <th></th>\n",
       "      <th>StockCode</th>\n",
       "      <th>Quantity</th>\n",
       "    </tr>\n",
       "  </thead>\n",
       "  <tbody>\n",
       "    <tr>\n",
       "      <th>0</th>\n",
       "      <td>22197</td>\n",
       "      <td>56450</td>\n",
       "    </tr>\n",
       "    <tr>\n",
       "      <th>1</th>\n",
       "      <td>84077</td>\n",
       "      <td>53847</td>\n",
       "    </tr>\n",
       "    <tr>\n",
       "      <th>2</th>\n",
       "      <td>85099B</td>\n",
       "      <td>47363</td>\n",
       "    </tr>\n",
       "    <tr>\n",
       "      <th>3</th>\n",
       "      <td>85123A</td>\n",
       "      <td>38830</td>\n",
       "    </tr>\n",
       "    <tr>\n",
       "      <th>4</th>\n",
       "      <td>84879</td>\n",
       "      <td>36221</td>\n",
       "    </tr>\n",
       "    <tr>\n",
       "      <th>5</th>\n",
       "      <td>21212</td>\n",
       "      <td>36039</td>\n",
       "    </tr>\n",
       "    <tr>\n",
       "      <th>6</th>\n",
       "      <td>23084</td>\n",
       "      <td>30646</td>\n",
       "    </tr>\n",
       "    <tr>\n",
       "      <th>7</th>\n",
       "      <td>22492</td>\n",
       "      <td>26437</td>\n",
       "    </tr>\n",
       "    <tr>\n",
       "      <th>8</th>\n",
       "      <td>22616</td>\n",
       "      <td>26315</td>\n",
       "    </tr>\n",
       "    <tr>\n",
       "      <th>9</th>\n",
       "      <td>21977</td>\n",
       "      <td>24753</td>\n",
       "    </tr>\n",
       "  </tbody>\n",
       "</table>\n",
       "</div>"
      ],
      "text/plain": [
       "  StockCode  Quantity\n",
       "0     22197     56450\n",
       "1     84077     53847\n",
       "2    85099B     47363\n",
       "3    85123A     38830\n",
       "4     84879     36221\n",
       "5     21212     36039\n",
       "6     23084     30646\n",
       "7     22492     26437\n",
       "8     22616     26315\n",
       "9     21977     24753"
      ]
     },
     "execution_count": 26,
     "metadata": {},
     "output_type": "execute_result"
    }
   ],
   "source": [
    "bs_q"
   ]
  },
  {
   "cell_type": "code",
   "execution_count": 27,
   "id": "e6c7b192-c03b-48b0-85cf-6ed5d9494ff1",
   "metadata": {},
   "outputs": [],
   "source": [
    "#best seller by revenue"
   ]
  },
  {
   "cell_type": "code",
   "execution_count": 28,
   "id": "3cd570bb-71e5-4b16-91fc-721fa8942375",
   "metadata": {},
   "outputs": [],
   "source": [
    "best_seller_r = retail.groupby('StockCode')['TotalSpend'].sum()"
   ]
  },
  {
   "cell_type": "code",
   "execution_count": 29,
   "id": "9973ec07-4bf6-4e20-85be-fc0b1c053488",
   "metadata": {},
   "outputs": [],
   "source": [
    "bs_r = best_seller_r.sort_values(ascending=False).head(10).reset_index().rename(columns={'TotalSpend':'Revenue Generated'})"
   ]
  },
  {
   "cell_type": "code",
   "execution_count": 30,
   "id": "012057c0-3bef-4e8f-8058-107af4302c9e",
   "metadata": {},
   "outputs": [
    {
     "data": {
      "text/html": [
       "<div>\n",
       "<style scoped>\n",
       "    .dataframe tbody tr th:only-of-type {\n",
       "        vertical-align: middle;\n",
       "    }\n",
       "\n",
       "    .dataframe tbody tr th {\n",
       "        vertical-align: top;\n",
       "    }\n",
       "\n",
       "    .dataframe thead th {\n",
       "        text-align: right;\n",
       "    }\n",
       "</style>\n",
       "<table border=\"1\" class=\"dataframe\">\n",
       "  <thead>\n",
       "    <tr style=\"text-align: right;\">\n",
       "      <th></th>\n",
       "      <th>StockCode</th>\n",
       "      <th>Revenue Generated</th>\n",
       "    </tr>\n",
       "  </thead>\n",
       "  <tbody>\n",
       "    <tr>\n",
       "      <th>0</th>\n",
       "      <td>DOT</td>\n",
       "      <td>206245.48</td>\n",
       "    </tr>\n",
       "    <tr>\n",
       "      <th>1</th>\n",
       "      <td>22423</td>\n",
       "      <td>164762.19</td>\n",
       "    </tr>\n",
       "    <tr>\n",
       "      <th>2</th>\n",
       "      <td>47566</td>\n",
       "      <td>98302.98</td>\n",
       "    </tr>\n",
       "    <tr>\n",
       "      <th>3</th>\n",
       "      <td>85123A</td>\n",
       "      <td>97894.50</td>\n",
       "    </tr>\n",
       "    <tr>\n",
       "      <th>4</th>\n",
       "      <td>85099B</td>\n",
       "      <td>92356.03</td>\n",
       "    </tr>\n",
       "    <tr>\n",
       "      <th>5</th>\n",
       "      <td>23084</td>\n",
       "      <td>66756.59</td>\n",
       "    </tr>\n",
       "    <tr>\n",
       "      <th>6</th>\n",
       "      <td>POST</td>\n",
       "      <td>66230.64</td>\n",
       "    </tr>\n",
       "    <tr>\n",
       "      <th>7</th>\n",
       "      <td>22086</td>\n",
       "      <td>63791.94</td>\n",
       "    </tr>\n",
       "    <tr>\n",
       "      <th>8</th>\n",
       "      <td>84879</td>\n",
       "      <td>58959.73</td>\n",
       "    </tr>\n",
       "    <tr>\n",
       "      <th>9</th>\n",
       "      <td>79321</td>\n",
       "      <td>53768.06</td>\n",
       "    </tr>\n",
       "  </tbody>\n",
       "</table>\n",
       "</div>"
      ],
      "text/plain": [
       "  StockCode  Revenue Generated\n",
       "0       DOT          206245.48\n",
       "1     22423          164762.19\n",
       "2     47566           98302.98\n",
       "3    85123A           97894.50\n",
       "4    85099B           92356.03\n",
       "5     23084           66756.59\n",
       "6      POST           66230.64\n",
       "7     22086           63791.94\n",
       "8     84879           58959.73\n",
       "9     79321           53768.06"
      ]
     },
     "execution_count": 30,
     "metadata": {},
     "output_type": "execute_result"
    }
   ],
   "source": [
    "bs_r"
   ]
  },
  {
   "cell_type": "code",
   "execution_count": 31,
   "id": "8dfd45df-35c8-401b-b6cf-3eeb44ed153b",
   "metadata": {},
   "outputs": [],
   "source": [
    "#lets join both the above data sets "
   ]
  },
  {
   "cell_type": "code",
   "execution_count": 32,
   "id": "e4064220-4cf8-49c1-b147-6459852654cc",
   "metadata": {},
   "outputs": [],
   "source": [
    "bs_merge =  pd.merge(bs_q, bs_r, on='StockCode')"
   ]
  },
  {
   "cell_type": "code",
   "execution_count": 33,
   "id": "1308fef3-03d0-49f6-bdd7-fc9844d92ada",
   "metadata": {},
   "outputs": [
    {
     "data": {
      "text/html": [
       "<div>\n",
       "<style scoped>\n",
       "    .dataframe tbody tr th:only-of-type {\n",
       "        vertical-align: middle;\n",
       "    }\n",
       "\n",
       "    .dataframe tbody tr th {\n",
       "        vertical-align: top;\n",
       "    }\n",
       "\n",
       "    .dataframe thead th {\n",
       "        text-align: right;\n",
       "    }\n",
       "</style>\n",
       "<table border=\"1\" class=\"dataframe\">\n",
       "  <thead>\n",
       "    <tr style=\"text-align: right;\">\n",
       "      <th></th>\n",
       "      <th>StockCode</th>\n",
       "      <th>Quantity</th>\n",
       "      <th>Revenue Generated</th>\n",
       "    </tr>\n",
       "  </thead>\n",
       "  <tbody>\n",
       "    <tr>\n",
       "      <th>0</th>\n",
       "      <td>85099B</td>\n",
       "      <td>47363</td>\n",
       "      <td>92356.03</td>\n",
       "    </tr>\n",
       "    <tr>\n",
       "      <th>1</th>\n",
       "      <td>85123A</td>\n",
       "      <td>38830</td>\n",
       "      <td>97894.50</td>\n",
       "    </tr>\n",
       "    <tr>\n",
       "      <th>2</th>\n",
       "      <td>84879</td>\n",
       "      <td>36221</td>\n",
       "      <td>58959.73</td>\n",
       "    </tr>\n",
       "    <tr>\n",
       "      <th>3</th>\n",
       "      <td>23084</td>\n",
       "      <td>30646</td>\n",
       "      <td>66756.59</td>\n",
       "    </tr>\n",
       "  </tbody>\n",
       "</table>\n",
       "</div>"
      ],
      "text/plain": [
       "  StockCode  Quantity  Revenue Generated\n",
       "0    85099B     47363           92356.03\n",
       "1    85123A     38830           97894.50\n",
       "2     84879     36221           58959.73\n",
       "3     23084     30646           66756.59"
      ]
     },
     "execution_count": 33,
     "metadata": {},
     "output_type": "execute_result"
    }
   ],
   "source": [
    "bs_merge.head()"
   ]
  },
  {
   "cell_type": "code",
   "execution_count": 34,
   "id": "d0012e18-875d-4712-b3d1-8a07b2c76935",
   "metadata": {},
   "outputs": [],
   "source": [
    "# Most valuble customers"
   ]
  },
  {
   "cell_type": "code",
   "execution_count": 35,
   "id": "210ee6b5-af7f-477f-810a-3d38e1719c32",
   "metadata": {},
   "outputs": [],
   "source": [
    "customer_spend = retail.groupby('CustomerID')['TotalSpend'].sum()"
   ]
  },
  {
   "cell_type": "code",
   "execution_count": 36,
   "id": "96d70e9d-be4e-4890-85f7-24cac1df88cd",
   "metadata": {},
   "outputs": [
    {
     "data": {
      "text/html": [
       "<div>\n",
       "<style scoped>\n",
       "    .dataframe tbody tr th:only-of-type {\n",
       "        vertical-align: middle;\n",
       "    }\n",
       "\n",
       "    .dataframe tbody tr th {\n",
       "        vertical-align: top;\n",
       "    }\n",
       "\n",
       "    .dataframe thead th {\n",
       "        text-align: right;\n",
       "    }\n",
       "</style>\n",
       "<table border=\"1\" class=\"dataframe\">\n",
       "  <thead>\n",
       "    <tr style=\"text-align: right;\">\n",
       "      <th></th>\n",
       "      <th>CustomerID</th>\n",
       "      <th>TotalSpend</th>\n",
       "    </tr>\n",
       "  </thead>\n",
       "  <tbody>\n",
       "    <tr>\n",
       "      <th>0</th>\n",
       "      <td>14646.0</td>\n",
       "      <td>279489.02</td>\n",
       "    </tr>\n",
       "    <tr>\n",
       "      <th>1</th>\n",
       "      <td>18102.0</td>\n",
       "      <td>256438.49</td>\n",
       "    </tr>\n",
       "    <tr>\n",
       "      <th>2</th>\n",
       "      <td>17450.0</td>\n",
       "      <td>187482.17</td>\n",
       "    </tr>\n",
       "    <tr>\n",
       "      <th>3</th>\n",
       "      <td>14911.0</td>\n",
       "      <td>132572.62</td>\n",
       "    </tr>\n",
       "    <tr>\n",
       "      <th>4</th>\n",
       "      <td>12415.0</td>\n",
       "      <td>123725.45</td>\n",
       "    </tr>\n",
       "    <tr>\n",
       "      <th>5</th>\n",
       "      <td>14156.0</td>\n",
       "      <td>113384.14</td>\n",
       "    </tr>\n",
       "    <tr>\n",
       "      <th>6</th>\n",
       "      <td>17511.0</td>\n",
       "      <td>88125.38</td>\n",
       "    </tr>\n",
       "    <tr>\n",
       "      <th>7</th>\n",
       "      <td>16684.0</td>\n",
       "      <td>65892.08</td>\n",
       "    </tr>\n",
       "    <tr>\n",
       "      <th>8</th>\n",
       "      <td>13694.0</td>\n",
       "      <td>62653.10</td>\n",
       "    </tr>\n",
       "    <tr>\n",
       "      <th>9</th>\n",
       "      <td>15311.0</td>\n",
       "      <td>59419.34</td>\n",
       "    </tr>\n",
       "  </tbody>\n",
       "</table>\n",
       "</div>"
      ],
      "text/plain": [
       "   CustomerID  TotalSpend\n",
       "0     14646.0   279489.02\n",
       "1     18102.0   256438.49\n",
       "2     17450.0   187482.17\n",
       "3     14911.0   132572.62\n",
       "4     12415.0   123725.45\n",
       "5     14156.0   113384.14\n",
       "6     17511.0    88125.38\n",
       "7     16684.0    65892.08\n",
       "8     13694.0    62653.10\n",
       "9     15311.0    59419.34"
      ]
     },
     "execution_count": 36,
     "metadata": {},
     "output_type": "execute_result"
    }
   ],
   "source": [
    "customer_spend.sort_values(ascending=False).head(10).reset_index()"
   ]
  },
  {
   "cell_type": "code",
   "execution_count": 37,
   "id": "26a99d28-e4e7-4f1a-bfab-8f7e1b0f76a8",
   "metadata": {},
   "outputs": [
    {
     "data": {
      "text/plain": [
       "Index(['InvoiceNo', 'StockCode', 'Quantity', 'InvoiceDate', 'UnitPrice',\n",
       "       'CustomerID', 'Country', 'TotalSpend', 'Month', 'Month_id', 'WeekDay',\n",
       "       'Year'],\n",
       "      dtype='object')"
      ]
     },
     "execution_count": 37,
     "metadata": {},
     "output_type": "execute_result"
    }
   ],
   "source": [
    "retail.columns"
   ]
  },
  {
   "cell_type": "code",
   "execution_count": 38,
   "id": "fdc4d419-75ab-4b84-86f5-768bca65ca08",
   "metadata": {},
   "outputs": [],
   "source": [
    "#InvoiceDate\n",
    "#monthly sales report"
   ]
  },
  {
   "cell_type": "markdown",
   "id": "a8e7bf70-d129-4c61-b071-4db4883d304d",
   "metadata": {},
   "source": [
    "##### Key Metrics for Monthly Sales Report:\n",
    "    - Total Revenue: The sum of Quantity * UnitPrice for each month.\n",
    "    - Total Quantity Sold: The total number of units sold in each month.\n",
    "    - Average Unit Price: The average price of products sold each month.\n",
    "    - Number of Transactions: Count of unique invoices in each month."
   ]
  },
  {
   "cell_type": "code",
   "execution_count": 40,
   "id": "d8987e93-b3d1-40f1-bd24-75ad3a460304",
   "metadata": {},
   "outputs": [
    {
     "data": {
      "text/plain": [
       "Year\n",
       "2011    499428\n",
       "2010     42481\n",
       "Name: count, dtype: int64"
      ]
     },
     "execution_count": 40,
     "metadata": {},
     "output_type": "execute_result"
    }
   ],
   "source": [
    "retail['Year'].value_counts()"
   ]
  },
  {
   "cell_type": "code",
   "execution_count": 41,
   "id": "f991300a-cde2-48f2-b403-d57c79a9e4cb",
   "metadata": {},
   "outputs": [],
   "source": [
    "#let's consider 2011 data only for monthly sales report"
   ]
  },
  {
   "cell_type": "code",
   "execution_count": 42,
   "id": "81a4cc12-e7f8-490a-9fc4-ff5a9ddd8fee",
   "metadata": {},
   "outputs": [],
   "source": [
    "retail_2011 = retail[retail['Year'] == 2011]\n",
    "\n",
    "monthly_sales_report = retail_2011.groupby('Month_id').agg(\n",
    "    total_revenue=('TotalSpend', 'sum'),\n",
    "    total_quantity_sold=('Quantity', 'sum'),\n",
    "    average_unit_price=('UnitPrice', 'mean'),\n",
    "    num_transactions=('InvoiceNo', 'nunique')\n",
    ").reset_index()"
   ]
  },
  {
   "cell_type": "code",
   "execution_count": 43,
   "id": "4fc4fa8e-7c1e-4b83-8d9d-b395671aa3a2",
   "metadata": {},
   "outputs": [
    {
     "data": {
      "text/html": [
       "<div>\n",
       "<style scoped>\n",
       "    .dataframe tbody tr th:only-of-type {\n",
       "        vertical-align: middle;\n",
       "    }\n",
       "\n",
       "    .dataframe tbody tr th {\n",
       "        vertical-align: top;\n",
       "    }\n",
       "\n",
       "    .dataframe thead th {\n",
       "        text-align: right;\n",
       "    }\n",
       "</style>\n",
       "<table border=\"1\" class=\"dataframe\">\n",
       "  <thead>\n",
       "    <tr style=\"text-align: right;\">\n",
       "      <th></th>\n",
       "      <th>Month_id</th>\n",
       "      <th>total_revenue</th>\n",
       "      <th>total_quantity_sold</th>\n",
       "      <th>average_unit_price</th>\n",
       "      <th>num_transactions</th>\n",
       "    </tr>\n",
       "  </thead>\n",
       "  <tbody>\n",
       "    <tr>\n",
       "      <th>10</th>\n",
       "      <td>11</td>\n",
       "      <td>1461756.250</td>\n",
       "      <td>740286</td>\n",
       "      <td>3.861952</td>\n",
       "      <td>3462</td>\n",
       "    </tr>\n",
       "    <tr>\n",
       "      <th>9</th>\n",
       "      <td>10</td>\n",
       "      <td>1070704.670</td>\n",
       "      <td>570532</td>\n",
       "      <td>4.336935</td>\n",
       "      <td>2637</td>\n",
       "    </tr>\n",
       "    <tr>\n",
       "      <th>8</th>\n",
       "      <td>9</td>\n",
       "      <td>1019687.622</td>\n",
       "      <td>549817</td>\n",
       "      <td>3.966774</td>\n",
       "      <td>2327</td>\n",
       "    </tr>\n",
       "    <tr>\n",
       "      <th>4</th>\n",
       "      <td>5</td>\n",
       "      <td>723333.510</td>\n",
       "      <td>380391</td>\n",
       "      <td>5.149486</td>\n",
       "      <td>2162</td>\n",
       "    </tr>\n",
       "    <tr>\n",
       "      <th>5</th>\n",
       "      <td>6</td>\n",
       "      <td>691123.120</td>\n",
       "      <td>341623</td>\n",
       "      <td>5.443330</td>\n",
       "      <td>2012</td>\n",
       "    </tr>\n",
       "    <tr>\n",
       "      <th>2</th>\n",
       "      <td>3</td>\n",
       "      <td>683267.080</td>\n",
       "      <td>351872</td>\n",
       "      <td>4.666554</td>\n",
       "      <td>1983</td>\n",
       "    </tr>\n",
       "    <tr>\n",
       "      <th>7</th>\n",
       "      <td>8</td>\n",
       "      <td>682680.510</td>\n",
       "      <td>406199</td>\n",
       "      <td>4.262149</td>\n",
       "      <td>1737</td>\n",
       "    </tr>\n",
       "    <tr>\n",
       "      <th>6</th>\n",
       "      <td>7</td>\n",
       "      <td>681300.111</td>\n",
       "      <td>391116</td>\n",
       "      <td>4.350088</td>\n",
       "      <td>1927</td>\n",
       "    </tr>\n",
       "    <tr>\n",
       "      <th>0</th>\n",
       "      <td>1</td>\n",
       "      <td>560000.260</td>\n",
       "      <td>308966</td>\n",
       "      <td>4.915151</td>\n",
       "      <td>1476</td>\n",
       "    </tr>\n",
       "    <tr>\n",
       "      <th>1</th>\n",
       "      <td>2</td>\n",
       "      <td>498062.650</td>\n",
       "      <td>277989</td>\n",
       "      <td>4.599876</td>\n",
       "      <td>1393</td>\n",
       "    </tr>\n",
       "    <tr>\n",
       "      <th>3</th>\n",
       "      <td>4</td>\n",
       "      <td>493207.121</td>\n",
       "      <td>289098</td>\n",
       "      <td>4.317588</td>\n",
       "      <td>1744</td>\n",
       "    </tr>\n",
       "    <tr>\n",
       "      <th>11</th>\n",
       "      <td>12</td>\n",
       "      <td>433668.010</td>\n",
       "      <td>226333</td>\n",
       "      <td>5.246451</td>\n",
       "      <td>1015</td>\n",
       "    </tr>\n",
       "  </tbody>\n",
       "</table>\n",
       "</div>"
      ],
      "text/plain": [
       "    Month_id  total_revenue  total_quantity_sold  average_unit_price  \\\n",
       "10        11    1461756.250               740286            3.861952   \n",
       "9         10    1070704.670               570532            4.336935   \n",
       "8          9    1019687.622               549817            3.966774   \n",
       "4          5     723333.510               380391            5.149486   \n",
       "5          6     691123.120               341623            5.443330   \n",
       "2          3     683267.080               351872            4.666554   \n",
       "7          8     682680.510               406199            4.262149   \n",
       "6          7     681300.111               391116            4.350088   \n",
       "0          1     560000.260               308966            4.915151   \n",
       "1          2     498062.650               277989            4.599876   \n",
       "3          4     493207.121               289098            4.317588   \n",
       "11        12     433668.010               226333            5.246451   \n",
       "\n",
       "    num_transactions  \n",
       "10              3462  \n",
       "9               2637  \n",
       "8               2327  \n",
       "4               2162  \n",
       "5               2012  \n",
       "2               1983  \n",
       "7               1737  \n",
       "6               1927  \n",
       "0               1476  \n",
       "1               1393  \n",
       "3               1744  \n",
       "11              1015  "
      ]
     },
     "execution_count": 43,
     "metadata": {},
     "output_type": "execute_result"
    }
   ],
   "source": [
    "monthly_sales_report.sort_values(by='total_revenue', ascending=False)"
   ]
  },
  {
   "cell_type": "code",
   "execution_count": 44,
   "id": "bc7eab97-5d07-4101-a44b-7714d5454fe6",
   "metadata": {},
   "outputs": [],
   "source": [
    "import calendar\n",
    "month_names = list(calendar.month_name)[1:]"
   ]
  },
  {
   "cell_type": "code",
   "execution_count": 96,
   "id": "a701996a-282d-4c05-a2ef-7da496dd5f94",
   "metadata": {},
   "outputs": [
    {
     "data": {
      "image/png": "[encoded data removed]",
      "text/plain": [
       "<Figure size 1000x600 with 1 Axes>"
      ]
     },
     "metadata": {},
     "output_type": "display_data"
    }
   ],
   "source": [
    "# Set up the plot\n",
    "plt.figure(figsize=(10, 6))\n",
    "\n",
    "# Plot the total revenue trend\n",
    "sns.lineplot(data=monthly_sales_report, x='Month_id', y='total_revenue', marker='o', label='Total Revenue', color='b')\n",
    "\n",
    "# Customize the plot\n",
    "plt.title('Monthly Total Revenue')\n",
    "plt.xlabel('Months')\n",
    "plt.ylabel('Total Revenue')\n",
    "plt.xticks(monthly_sales_report['Month_id'], month_names, rotation=45, horizontalalignment='right')\n",
    "plt.grid(True)\n",
    "plt.legend()\n",
    "\n",
    "plt.savefig('sales_plot.png', dpi=400, bbox_inches='tight')\n",
    "# Display the plot\n",
    "plt.show()\n"
   ]
  },
  {
   "cell_type": "code",
   "execution_count": 46,
   "id": "b453626d-4752-4f4f-aeac-70d52e9a1761",
   "metadata": {},
   "outputs": [
    {
     "data": {
      "text/plain": [
       "Country\n",
       "United Kingdom          495478\n",
       "Germany                   9495\n",
       "France                    8557\n",
       "EIRE                      8196\n",
       "Spain                     2533\n",
       "Netherlands               2371\n",
       "Belgium                   2069\n",
       "Switzerland               2002\n",
       "Portugal                  1519\n",
       "Australia                 1259\n",
       "Norway                    1086\n",
       "Italy                      803\n",
       "Channel Islands            758\n",
       "Finland                    695\n",
       "Cyprus                     622\n",
       "Sweden                     462\n",
       "Unspecified                446\n",
       "Austria                    401\n",
       "Denmark                    389\n",
       "Japan                      358\n",
       "Poland                     341\n",
       "Israel                     297\n",
       "USA                        291\n",
       "Hong Kong                  288\n",
       "Singapore                  229\n",
       "Iceland                    182\n",
       "Canada                     151\n",
       "Greece                     146\n",
       "Malta                      127\n",
       "United Arab Emirates        68\n",
       "European Community          61\n",
       "RSA                         58\n",
       "Lebanon                     45\n",
       "Lithuania                   35\n",
       "Brazil                      32\n",
       "Czech Republic              30\n",
       "Bahrain                     19\n",
       "Saudi Arabia                10\n",
       "Name: count, dtype: int64"
      ]
     },
     "execution_count": 46,
     "metadata": {},
     "output_type": "execute_result"
    }
   ],
   "source": [
    "retail['Country'].value_counts()"
   ]
  },
  {
   "cell_type": "code",
   "execution_count": 47,
   "id": "7d8e346c-8440-4842-97a7-a69b0b25b90f",
   "metadata": {},
   "outputs": [],
   "source": [
    "country_sales = retail.groupby('Country')['Quantity'].sum().sort_values(ascending = False).head(10)"
   ]
  },
  {
   "cell_type": "code",
   "execution_count": 48,
   "id": "a159e437-d32b-4cea-a727-7e97340f7652",
   "metadata": {},
   "outputs": [
    {
     "data": {
      "text/plain": [
       "Country\n",
       "United Kingdom    4263829\n",
       "Netherlands        200128\n",
       "EIRE               142637\n",
       "Germany            117448\n",
       "France             110480\n",
       "Australia           83653\n",
       "Sweden              35637\n",
       "Switzerland         30325\n",
       "Spain               26824\n",
       "Japan               25218\n",
       "Name: Quantity, dtype: int64"
      ]
     },
     "execution_count": 48,
     "metadata": {},
     "output_type": "execute_result"
    }
   ],
   "source": [
    "country_sales"
   ]
  },
  {
   "cell_type": "code",
   "execution_count": 49,
   "id": "6db700f2-dc93-4e12-a97c-c5545f37a380",
   "metadata": {},
   "outputs": [
    {
     "data": {
      "image/png": "[encoded data removed]",
      "text/plain": [
       "<Figure size 640x480 with 1 Axes>"
      ]
     },
     "metadata": {},
     "output_type": "display_data"
    }
   ],
   "source": [
    "#plt.figure(figsize=(10, 6))\n",
    "country_sales.plot(kind='bar', color='skyblue', edgecolor='black')\n",
    "\n",
    "# Customize the plot\n",
    "plt.title('Total Quantity Sold by Country', fontsize=16)\n",
    "plt.xlabel('Country', fontsize=14)\n",
    "plt.ylabel('Total Quantity Sold', fontsize=14)\n",
    "plt.xticks(rotation=45, ha='right', fontsize=12)\n",
    "plt.grid(axis='y', linestyle='--', alpha=0.7)\n",
    "plt.tight_layout()\n",
    "\n",
    "# Show the plot\n",
    "plt.show()\n"
   ]
  },
  {
   "cell_type": "markdown",
   "id": "e3cbcf3e-b163-4c86-8b85-09352af1d6fb",
   "metadata": {},
   "source": [
    "##### Conclusion"
   ]
  },
  {
   "cell_type": "markdown",
   "id": "e162af91-b070-4b4a-ba9e-d908a9647618",
   "metadata": {},
   "source": [
    "###### United Kingdom has hightest sales, The sales are high in the month of November and lowest in the month of december."
   ]
  },
  {
   "cell_type": "code",
   "execution_count": null,
   "id": "1b654d9e-9abd-458b-a763-e1f7519e29d3",
   "metadata": {},
   "outputs": [],
   "source": []
  }
 ],
 "metadata": {
  "kernelspec": {
   "display_name": "Python 3 (ipykernel)",
   "language": "python",
   "name": "python3"
  },
  "language_info": {
   "codemirror_mode": {
    "name": "ipython",
    "version": 3
   },
   "file_extension": ".py",
   "mimetype": "text/x-python",
   "name": "python",
   "nbconvert_exporter": "python",
   "pygments_lexer": "ipython3",
   "version": "3.12.7"
  }
 },
 "nbformat": 4,
 "nbformat_minor": 5
}
