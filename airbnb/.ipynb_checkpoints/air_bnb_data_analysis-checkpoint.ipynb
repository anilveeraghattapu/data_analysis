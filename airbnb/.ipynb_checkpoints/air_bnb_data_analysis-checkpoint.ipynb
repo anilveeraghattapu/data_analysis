{
 "cells": [
  {
   "cell_type": "code",
   "execution_count": 1,
   "id": "a69eca1b-096e-4b34-a5d8-90313bdcbf1b",
   "metadata": {},
   "outputs": [
    {
     "name": "stdout",
     "output_type": "stream",
     "text": [
      "Airbnb NewYork City Dataset\n"
     ]
    }
   ],
   "source": [
    "print('Airbnb NewYork City Dataset')"
   ]
  },
  {
   "cell_type": "code",
   "execution_count": null,
   "id": "ded0c853-387b-4ae7-b729-085ed91cf40c",
   "metadata": {},
   "outputs": [],
   "source": []
  }
 ],
 "metadata": {
  "kernelspec": {
   "display_name": "Python 3 (ipykernel)",
   "language": "python",
   "name": "python3"
  },
  "language_info": {
   "codemirror_mode": {
    "name": "ipython",
    "version": 3
   },
   "file_extension": ".py",
   "mimetype": "text/x-python",
   "name": "python",
   "nbconvert_exporter": "python",
   "pygments_lexer": "ipython3",
   "version": "3.12.7"
  }
 },
 "nbformat": 4,
 "nbformat_minor": 5
}
