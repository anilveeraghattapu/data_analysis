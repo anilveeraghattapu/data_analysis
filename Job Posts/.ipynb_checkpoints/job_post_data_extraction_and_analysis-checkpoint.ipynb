{
 "cells": [
  {
   "cell_type": "markdown",
   "id": "f6840e79-653a-4f46-a618-38043c5e7b67",
   "metadata": {},
   "source": [
    "### Job Post Data Extraction and Analysis"
   ]
  },
  {
   "cell_type": "markdown",
   "id": "bd929009-1af8-4c10-8230-81e6afce97c6",
   "metadata": {},
   "source": [
    "#### Introduction"
   ]
  },
  {
   "cell_type": "markdown",
   "id": "f1f17c29-7bee-4683-8fb5-cb23529dbfdd",
   "metadata": {},
   "source": [
    "##### In the recruitment industry, sourcing job vacancies efficiently is critical for gaining a competitive edge. Manually browsing job posting sites is time-consuming and prone to missed opportunities. This project addresses this challenge by leveraging web scraping techniques to automate the extraction of job posting data from major job sites."
   ]
  },
  {
   "cell_type": "markdown",
   "id": "4c84860b-57fc-45e7-a1d5-265e08a53e94",
   "metadata": {},
   "source": [
    "##### The objectives of this analysis are:\n",
    "\n",
    "    - To increase the efficiency and accuracy of job vacancy sourcing.\n",
    "    - To provide actionable insights that improve the quality of job postings delivered to clients.\n",
    "    - To enable a competitive advantage for clients by accessing relevant job openings faster."
   ]
  },
  {
   "cell_type": "markdown",
   "id": "0a0096e8-fdc8-492e-8f57-6777f84762af",
   "metadata": {},
   "source": [
    "##### Target Job Posting Sites:\n",
    "  - LinkedIn\n",
    "  - Indeed\n",
    "  - Monster\n",
    "  - Glassdoor"
   ]
  },
  {
   "cell_type": "markdown",
   "id": "a82c6a04-d694-462c-9c51-62ea895b0002",
   "metadata": {},
   "source": [
    "##### Our Target Data\n",
    "  - Job title\n",
    "  - Company name\n",
    "  - Location\n",
    "  - Salary (if available)\n",
    "  - Job description\n",
    "  - Date posted"
   ]
  },
  {
   "cell_type": "code",
   "execution_count": 15,
   "id": "27a7a01c-9b17-4332-98af-781d96fa768b",
   "metadata": {},
   "outputs": [],
   "source": [
    "#install prerequisites"
   ]
  },
  {
   "cell_type": "code",
   "execution_count": 23,
   "id": "36c94516-0c8c-49e3-9e8f-a55445c688d9",
   "metadata": {},
   "outputs": [
    {
     "name": "stdout",
     "output_type": "stream",
     "text": [
      "Requirement already satisfied: requests in c:\\users\\admin\\anaconda3\\lib\\site-packages (2.32.3)\n",
      "Requirement already satisfied: charset-normalizer<4,>=2 in c:\\users\\admin\\anaconda3\\lib\\site-packages (from requests) (3.3.2)\n",
      "Requirement already satisfied: idna<4,>=2.5 in c:\\users\\admin\\anaconda3\\lib\\site-packages (from requests) (3.7)\n",
      "Requirement already satisfied: urllib3<3,>=1.21.1 in c:\\users\\admin\\anaconda3\\lib\\site-packages (from requests) (2.2.3)\n",
      "Requirement already satisfied: certifi>=2017.4.17 in c:\\users\\admin\\anaconda3\\lib\\site-packages (from requests) (2024.8.30)\n",
      "Requirement already satisfied: beautifulsoup4 in c:\\users\\admin\\anaconda3\\lib\\site-packages (4.12.3)\n",
      "Requirement already satisfied: soupsieve>1.2 in c:\\users\\admin\\anaconda3\\lib\\site-packages (from beautifulsoup4) (2.5)\n"
     ]
    }
   ],
   "source": [
    "!pip install requests\n",
    "!pip install beautifulsoup4"
   ]
  },
  {
   "cell_type": "code",
   "execution_count": null,
   "id": "6e0c5336-37af-434e-bf80-780cc94a16f0",
   "metadata": {},
   "outputs": [],
   "source": []
  }
 ],
 "metadata": {
  "kernelspec": {
   "display_name": "Python 3 (ipykernel)",
   "language": "python",
   "name": "python3"
  },
  "language_info": {
   "codemirror_mode": {
    "name": "ipython",
    "version": 3
   },
   "file_extension": ".py",
   "mimetype": "text/x-python",
   "name": "python",
   "nbconvert_exporter": "python",
   "pygments_lexer": "ipython3",
   "version": "3.12.7"
  }
 },
 "nbformat": 4,
 "nbformat_minor": 5
}
