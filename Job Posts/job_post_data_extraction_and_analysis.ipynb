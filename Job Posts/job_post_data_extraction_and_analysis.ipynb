{
 "cells": [
  {
   "cell_type": "markdown",
   "id": "f6840e79-653a-4f46-a618-38043c5e7b67",
   "metadata": {},
   "source": [
    "### Job Post Data Extraction and Analysis"
   ]
  },
  {
   "cell_type": "markdown",
   "id": "bd929009-1af8-4c10-8230-81e6afce97c6",
   "metadata": {},
   "source": [
    "#### Introduction"
   ]
  },
  {
   "cell_type": "markdown",
   "id": "f1f17c29-7bee-4683-8fb5-cb23529dbfdd",
   "metadata": {},
   "source": [
    "##### In the recruitment industry, sourcing job vacancies efficiently is critical for gaining a competitive edge. Manually browsing job posting sites is time-consuming and prone to missed opportunities. This project addresses this challenge by leveraging web scraping techniques to automate the extraction of job posting data from major job sites."
   ]
  },
  {
   "cell_type": "markdown",
   "id": "4c84860b-57fc-45e7-a1d5-265e08a53e94",
   "metadata": {},
   "source": [
    "##### The objectives of this analysis are:\n",
    "\n",
    "    - To increase the efficiency and accuracy of job vacancy sourcing.\n",
    "    - To provide actionable insights that improve the quality of job postings delivered to clients.\n",
    "    - To enable a competitive advantage for clients by accessing relevant job openings faster."
   ]
  },
  {
   "cell_type": "markdown",
   "id": "0a0096e8-fdc8-492e-8f57-6777f84762af",
   "metadata": {},
   "source": [
    "##### Target Job Posting Sites:\n",
    "  - LinkedIn\n",
    "  - Indeed\n",
    "  - Monster\n",
    "  - Glassdoor"
   ]
  },
  {
   "cell_type": "markdown",
   "id": "a82c6a04-d694-462c-9c51-62ea895b0002",
   "metadata": {},
   "source": [
    "##### Our Target Data\n",
    "  - Job title\n",
    "  - Company name\n",
    "  - Location\n",
    "  - Salary (if available)\n",
    "  - Job description\n",
    "  - Date posted"
   ]
  },
  {
   "cell_type": "code",
   "execution_count": 15,
   "id": "27a7a01c-9b17-4332-98af-781d96fa768b",
   "metadata": {},
   "outputs": [],
   "source": [
    "#install prerequisites"
   ]
  },
  {
   "cell_type": "code",
   "execution_count": null,
   "id": "36c94516-0c8c-49e3-9e8f-a55445c688d9",
   "metadata": {},
   "outputs": [],
   "source": [
    "!pip install requests\n",
    "!pip install beautifulsoup4\n",
    "!pip install selenium"
   ]
  },
  {
   "cell_type": "code",
   "execution_count": 3,
   "id": "6e0c5336-37af-434e-bf80-780cc94a16f0",
   "metadata": {},
   "outputs": [],
   "source": [
    "#lets begin with Indeed data"
   ]
  },
  {
   "cell_type": "code",
   "execution_count": 15,
   "id": "5cc0501f-0291-40d6-82b6-762fd0682f8c",
   "metadata": {},
   "outputs": [],
   "source": [
    "import requests\n",
    "from bs4 import BeautifulSoup\n",
    "import pandas as pd\n",
    "\n",
    "# URL for Indeed search results (Data Analyst jobs)\n",
    "url = \"https://www.indeed.com/jobs?q=data+analyst&l=\"\n",
    "# Request page with a user-agent to mimic browser behavior\n",
    "headers = {\n",
    "    \"User-Agent\": \"Mozilla/5.0 (Windows NT 10.0; Win64; x64) AppleWebKit/537.36 (KHTML, like Gecko) Chrome/91.0.4472.124 Safari/537.36\"\n",
    "}\n",
    "response = requests.get(url, headers=headers)\n",
    "\n",
    "# Parse HTML\n",
    "soup = BeautifulSoup(response.text, 'html.parser')\n",
    "\n"
   ]
  },
  {
   "cell_type": "code",
   "execution_count": 31,
   "id": "2820fd46-232b-4a12-b050-37efb3d1caee",
   "metadata": {},
   "outputs": [
    {
     "name": "stdout",
     "output_type": "stream",
     "text": [
      "'Security Check - Indeed.com'\n",
      "'\\n'\n",
      "' '\n",
      "' '\n",
      "' '\n",
      "' '\n",
      "' '\n",
      "' '\n",
      "' '\n",
      "' '\n",
      "'Find jobs'\n",
      "' '\n",
      "' '\n",
      "' '\n",
      "'Company reviews'\n",
      "' '\n",
      "' '\n",
      "' '\n",
      "'Find salaries'\n",
      "' '\n",
      "' '\n",
      "' '\n",
      "' '\n",
      "'Sign in'\n",
      "' '\n",
      "' '\n",
      "' '\n",
      "' '\n",
      "' '\n",
      "' '\n",
      "' '\n",
      "'Upload your resume'\n",
      "' '\n",
      "' '\n",
      "' '\n",
      "'Sign in'\n",
      "' '\n",
      "' '\n",
      "' '\n",
      "'Employers / Post Job'\n",
      "' '\n",
      "' '\n",
      "' '\n",
      "'Find jobs'\n",
      "' '\n",
      "' '\n",
      "' '\n",
      "'Company reviews'\n",
      "' '\n",
      "' '\n",
      "' '\n",
      "'Find salaries'\n",
      "' '\n",
      "' '\n",
      "' '\n",
      "' '\n",
      "' '\n",
      "' '\n",
      "'Additional Verification Required'\n",
      "' '\n",
      "'Enable JavaScript and cookies to continue'\n",
      "' '\n",
      "'Your Ray ID for this request is '\n",
      "'8ff6b679bfe49aa2'\n",
      "' '\n",
      "'Need more help? '\n",
      "'Contact us'\n",
      "' '\n",
      "' '\n"
     ]
    }
   ],
   "source": [
    "for string in soup.strings:\n",
    "    print(repr(string))"
   ]
  },
  {
   "cell_type": "code",
   "execution_count": null,
   "id": "4b77f1a7-8a10-4756-8246-da42fae0c466",
   "metadata": {},
   "outputs": [],
   "source": [
    "# Extract job postings\n",
    "jobs = []\n",
    "for card in soup.find_all('div', class_='job_seen_beacon'):\n",
    "    title = card.find('h2', class_='jobTitle').text.strip() if card.find('h2', class_='jobTitle') else 'No Title'\n",
    "    company = card.find('span', class_='companyName').text.strip() if card.find('span', class_='companyName') else 'No Company'\n",
    "    location = card.find('div', class_='companyLocation').text.strip() if card.find('div', class_='companyLocation') else 'No Location'\n",
    "    jobs.append({\"Job Title\": title, \"Company\": company, \"Location\": location})\n",
    "\n",
    "# Convert to DataFrame for better organization\n",
    "df = pd.DataFrame(jobs)\n",
    "\n",
    "# Display the data (Optional)\n",
    "print(df)\n",
    "\n",
    "# Save to CSV file\n",
    "df.to_csv('indeed_jobs.csv', index=False)"
   ]
  }
 ],
 "metadata": {
  "kernelspec": {
   "display_name": "Python 3 (ipykernel)",
   "language": "python",
   "name": "python3"
  },
  "language_info": {
   "codemirror_mode": {
    "name": "ipython",
    "version": 3
   },
   "file_extension": ".py",
   "mimetype": "text/x-python",
   "name": "python",
   "nbconvert_exporter": "python",
   "pygments_lexer": "ipython3",
   "version": "3.12.7"
  }
 },
 "nbformat": 4,
 "nbformat_minor": 5
}
